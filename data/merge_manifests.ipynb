{
 "cells": [
  {
   "cell_type": "code",
   "execution_count": 10,
   "metadata": {},
   "outputs": [],
   "source": [
    "a = 'train_clean.csv'\n",
    "b = 'train_zeroth.csv'"
   ]
  },
  {
   "cell_type": "code",
   "execution_count": 11,
   "metadata": {},
   "outputs": [
    {
     "name": "stdout",
     "output_type": "stream",
     "text": [
      "619801\n",
      "22263\n"
     ]
    }
   ],
   "source": [
    "with open(a,'r') as f:\n",
    "    a = f.read().split('\\n')\n",
    "    \n",
    "with open(b,'r') as f:\n",
    "    b = f.read().split('\\n')\n",
    "    \n",
    "print(len(a))\n",
    "print(len(b))"
   ]
  },
  {
   "cell_type": "code",
   "execution_count": 12,
   "metadata": {},
   "outputs": [],
   "source": [
    "all_m = a + b"
   ]
  },
  {
   "cell_type": "code",
   "execution_count": 13,
   "metadata": {},
   "outputs": [
    {
     "data": {
      "text/plain": [
       "642064"
      ]
     },
     "execution_count": 13,
     "metadata": {},
     "output_type": "execute_result"
    }
   ],
   "source": [
    "len(all_m)"
   ]
  },
  {
   "cell_type": "code",
   "execution_count": 15,
   "metadata": {},
   "outputs": [],
   "source": [
    "with open('train_all.csv','w') as f:\n",
    "    f.write('\\n'.join(all_m))"
   ]
  },
  {
   "cell_type": "code",
   "execution_count": 16,
   "metadata": {},
   "outputs": [
    {
     "name": "stdout",
     "output_type": "stream",
     "text": [
      "1000\n",
      "457\n"
     ]
    }
   ],
   "source": [
    "a = 'val_clean.csv'\n",
    "b = 'val_zeroth.csv'\n",
    "\n",
    "with open(a,'r') as f:\n",
    "    a = f.read().split('\\n')\n",
    "    \n",
    "with open(b,'r') as f:\n",
    "    b = f.read().split('\\n')\n",
    "    \n",
    "print(len(a))\n",
    "print(len(b))\n",
    "\n",
    "all_m = a + b\n",
    "\n",
    "with open('val_all.csv','w') as f:\n",
    "    f.write('\\n'.join(all_m))"
   ]
  }
 ],
 "metadata": {
  "kernelspec": {
   "display_name": "Python 3",
   "language": "python",
   "name": "python3"
  },
  "language_info": {
   "codemirror_mode": {
    "name": "ipython",
    "version": 3
   },
   "file_extension": ".py",
   "mimetype": "text/x-python",
   "name": "python",
   "nbconvert_exporter": "python",
   "pygments_lexer": "ipython3",
   "version": "3.6.8"
  }
 },
 "nbformat": 4,
 "nbformat_minor": 4
}
